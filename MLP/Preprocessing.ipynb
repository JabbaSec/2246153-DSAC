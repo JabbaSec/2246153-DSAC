{
 "cells": [
  {
   "cell_type": "code",
   "execution_count": 109,
   "metadata": {},
   "outputs": [],
   "source": [
    "import pandas as pd\n",
    "import numpy as np\n",
    "\n",
    "from sklearn.preprocessing import StandardScaler, OneHotEncoder, LabelEncoder\n",
    "from sklearn.compose import ColumnTransformer\n",
    "from sklearn.model_selection import train_test_split"
   ]
  },
  {
   "cell_type": "code",
   "execution_count": 110,
   "metadata": {},
   "outputs": [],
   "source": [
    "columns = [\n",
    "    'duration', 'protocol_type', 'service', 'flag', 'src_bytes', 'dst_bytes', 'land',\n",
    "    'wrong_fragment', 'urgent', 'hot', 'num_failed_logins', 'logged_in', 'num_compromised',\n",
    "    'root_shell', 'su_attempted', 'num_root', 'num_file_creations', 'num_shells',\n",
    "    'num_access_files', 'num_outbound_cmds', 'is_host_login', 'is_guest_login', 'count',\n",
    "    'srv_count', 'serror_rate', 'srv_serror_rate', 'rerror_rate', 'srv_rerror_rate',\n",
    "    'same_srv_rate', 'diff_srv_rate', 'srv_diff_host_rate', 'dst_host_count', 'dst_host_srv_count',\n",
    "    'dst_host_same_srv_rate', 'dst_host_diff_srv_rate', 'dst_host_same_src_port_rate',\n",
    "    'dst_host_srv_diff_host_rate', 'dst_host_serror_rate', 'dst_host_srv_serror_rate',\n",
    "    'dst_host_rerror_rate', 'dst_host_srv_rerror_rate', 'label', 'difficulty'\n",
    "]"
   ]
  },
  {
   "cell_type": "markdown",
   "metadata": {},
   "source": [
    "# Functions for preparing data\n",
    "Functions are used to ensure that the test, train and validation data are applied consistently to both data sets."
   ]
  },
  {
   "cell_type": "code",
   "execution_count": 111,
   "metadata": {},
   "outputs": [],
   "source": [
    "def load_and_preprocess_data(file_path, columns):\n",
    "    data = pd.read_csv(file_path, header=None, names=columns, index_col=False)\n",
    "    data.drop(columns=['difficulty'], inplace=True, errors='ignore')\n",
    "    data.loc[data.label != 'normal', 'label'] = 'attack'\n",
    "    data['label'] = data['label'].map({'normal': 0, 'attack': 1})\n",
    "    return data"
   ]
  },
  {
   "cell_type": "code",
   "execution_count": 112,
   "metadata": {},
   "outputs": [],
   "source": [
    "def encode_categorical_columns(train_data, test_data):\n",
    "    categorical_cols = ['protocol_type', 'service', 'flag']\n",
    "    for col in categorical_cols:\n",
    "        encoder = LabelEncoder()\n",
    "        encoder.fit(pd.concat([train_data[col], test_data[col]]))\n",
    "        train_data[col] = encoder.transform(train_data[col])\n",
    "        test_data[col] = encoder.transform(test_data[col])\n",
    "    return train_data, test_data"
   ]
  },
  {
   "cell_type": "code",
   "execution_count": 113,
   "metadata": {},
   "outputs": [],
   "source": [
    "def preprocess_features(train_features, test_features=None):\n",
    "    categorical_columns = train_features.select_dtypes(include=['object']).columns\n",
    "    numerical_columns = train_features.select_dtypes(exclude=['object']).columns\n",
    "\n",
    "    preprocessor = ColumnTransformer(\n",
    "        transformers=[\n",
    "            ('cat', OneHotEncoder(sparse_output=False, handle_unknown='ignore'), categorical_columns),\n",
    "            ('num', StandardScaler(), numerical_columns)\n",
    "        ]\n",
    "    )\n",
    "\n",
    "    train_processed = preprocessor.fit_transform(train_features)\n",
    "\n",
    "    if test_features is not None:\n",
    "        test_processed = preprocessor.transform(test_features)\n",
    "        return pd.DataFrame(train_processed, columns=preprocessor.get_feature_names_out()), \\\n",
    "               pd.DataFrame(test_processed, columns=preprocessor.get_feature_names_out()), preprocessor\n",
    "\n",
    "    return pd.DataFrame(train_processed, columns=preprocessor.get_feature_names_out()), preprocessor"
   ]
  },
  {
   "cell_type": "markdown",
   "metadata": {},
   "source": [
    "# Preparation"
   ]
  },
  {
   "cell_type": "code",
   "execution_count": 114,
   "metadata": {},
   "outputs": [],
   "source": [
    "# Load datasets\n",
    "train_data = load_and_preprocess_data('../NSL-KDD/KDDTrain+.txt', columns)\n",
    "test_data = load_and_preprocess_data('../NSL-KDD/KDDTest+.txt', columns)"
   ]
  },
  {
   "cell_type": "code",
   "execution_count": 120,
   "metadata": {},
   "outputs": [
    {
     "data": {
      "text/plain": [
       "((125973, 42), (22544, 42))"
      ]
     },
     "execution_count": 120,
     "metadata": {},
     "output_type": "execute_result"
    }
   ],
   "source": [
    "train_data.shape, test_data.shape"
   ]
  },
  {
   "cell_type": "markdown",
   "metadata": {},
   "source": [
    "## Encode categorical columns"
   ]
  },
  {
   "cell_type": "code",
   "execution_count": 115,
   "metadata": {},
   "outputs": [],
   "source": [
    "train_data, test_data = encode_categorical_columns(train_data, test_data)"
   ]
  },
  {
   "cell_type": "markdown",
   "metadata": {},
   "source": [
    "## Separate features and labels"
   ]
  },
  {
   "cell_type": "code",
   "execution_count": 116,
   "metadata": {},
   "outputs": [],
   "source": [
    "X = train_data.drop(['label'], axis=1)\n",
    "y = train_data['label']\n",
    "\n",
    "X_test = test_data.drop(['label'], axis=1)\n",
    "y_test = test_data['label']"
   ]
  },
  {
   "cell_type": "markdown",
   "metadata": {},
   "source": [
    "## Split training data into training and validation sets"
   ]
  },
  {
   "cell_type": "code",
   "execution_count": 117,
   "metadata": {},
   "outputs": [],
   "source": [
    "X_train, X_val, y_train, y_val = train_test_split(\n",
    "    X, y, test_size=0.2, random_state=42, stratify=y\n",
    ")"
   ]
  },
  {
   "cell_type": "markdown",
   "metadata": {},
   "source": [
    "## Preprocess train, validation, and test sets"
   ]
  },
  {
   "cell_type": "code",
   "execution_count": 118,
   "metadata": {},
   "outputs": [],
   "source": [
    "X_train_processed, X_val_processed, preprocessor = preprocess_features(X_train, X_val)\n",
    "X_test_processed, preprocessor = preprocess_features(X_test)"
   ]
  },
  {
   "cell_type": "markdown",
   "metadata": {},
   "source": [
    "# Save preprocessed datasets"
   ]
  },
  {
   "cell_type": "code",
   "execution_count": 119,
   "metadata": {},
   "outputs": [
    {
     "name": "stdout",
     "output_type": "stream",
     "text": [
      "Data preparation completed and datasets saved.\n"
     ]
    }
   ],
   "source": [
    "X_train_processed.to_csv('./DATASET/train_features.csv', index=False)\n",
    "y_train.to_csv('./DATASET/train_labels.csv', index=False)\n",
    "X_val_processed.to_csv('./DATASET/val_features.csv', index=False)\n",
    "y_val.to_csv('./DATASET/val_labels.csv', index=False)\n",
    "X_test_processed.to_csv('./DATASET/test_features.csv', index=False)\n",
    "y_test.to_csv('./DATASET/test_labels.csv', index=False)\n",
    "\n",
    "print(\"Data preparation completed and datasets saved.\")"
   ]
  }
 ],
 "metadata": {
  "kernelspec": {
   "display_name": "Python 3",
   "language": "python",
   "name": "python3"
  },
  "language_info": {
   "codemirror_mode": {
    "name": "ipython",
    "version": 3
   },
   "file_extension": ".py",
   "mimetype": "text/x-python",
   "name": "python",
   "nbconvert_exporter": "python",
   "pygments_lexer": "ipython3",
   "version": "3.11.9"
  }
 },
 "nbformat": 4,
 "nbformat_minor": 2
}
